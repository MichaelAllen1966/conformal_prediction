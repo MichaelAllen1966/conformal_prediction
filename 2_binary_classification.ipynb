{
 "cells": [
  {
   "cell_type": "markdown",
   "metadata": {},
   "source": [
    "# Conformal prediction for binary classification\n",
    "\n",
    "Here we show how a binary classifier can be applied to produce one of four classifications:\n",
    "\n",
    "- *Positive*: The instance reaches the threshold for the positive class, but not the negative class.\n",
    "\n",
    "- *Negative*: The instance reaches the threshold for the negative class, but not the positive class.\n",
    "\n",
    "- *Both*: The instance reaches the threshold for both positive and negative classes.\n",
    "\n",
    "- *None*: The instance does not reach the threshold for either class.\n",
    "\n",
    "Adjusting $\\alpha$ (*coverage*) will adjust the balance of classes. A high $\\alpha$ is more likely to classify na instance in both classes, whereas a low $\\alpha$ is more likely to fail to classify in either class.\n"
   ]
  },
  {
   "cell_type": "code",
   "execution_count": 1,
   "metadata": {},
   "outputs": [],
   "source": [
    "import matplotlib.pyplot as plt\n",
    "import numpy as np\n",
    "import pandas as pd\n",
    "from sklearn.datasets import make_classification\n",
    "from sklearn.linear_model import LogisticRegression\n",
    "from sklearn.model_selection import train_test_split\n",
    "\n",
    "from mapie.classification import MapieClassifier\n",
    "from mapie.metrics import classification_coverage_score\n",
    "from mapie.metrics import classification_mean_width_score"
   ]
  },
  {
   "cell_type": "markdown",
   "metadata": {},
   "source": [
    "## Create data\n",
    "\n",
    "Example data will be produced using SK-Learn's `make_blobs` method."
   ]
  },
  {
   "cell_type": "code",
   "execution_count": 2,
   "metadata": {},
   "outputs": [],
   "source": [
    "n_classes = 2\n",
    "# Make train and test data using sklearn's make_classification\n",
    "X, y = make_classification(n_samples=10000, n_classes=2, n_features=5,\n",
    "                           n_informative=5, n_redundant=0, n_clusters_per_class=1,\n",
    "                           class_sep=0.7, random_state=42)\n",
    "# Split into train and test sets\n",
    "X_train, X_test, y_train, y_test = train_test_split(X, y, test_size=0.5)"
   ]
  },
  {
   "cell_type": "markdown",
   "metadata": {},
   "source": [
    "## Train standard model"
   ]
  },
  {
   "cell_type": "code",
   "execution_count": 3,
   "metadata": {},
   "outputs": [],
   "source": [
    "model = LogisticRegression()\n",
    "model.fit(X_train, y_train)\n",
    "predicted_proba = model.predict_proba(X_test)"
   ]
  },
  {
   "cell_type": "markdown",
   "metadata": {},
   "source": [
    "## Train model and MAPIE classifier\n",
    "\n",
    "MAPIE wraps around any model. It fits the model and gets the prediction sets.\n",
    "\n",
    "The `score` method is the same as used above. This method may be used with k-fold MAPIE fitting which fits a model and then gives us prediction sets across the whole test set by using k-fold calibration/test. "
   ]
  },
  {
   "cell_type": "code",
   "execution_count": 4,
   "metadata": {},
   "outputs": [
    {
     "name": "stdout",
     "output_type": "stream",
     "text": [
      "[[ True False]\n",
      " [ True False]\n",
      " [ True  True]\n",
      " [ True False]\n",
      " [ True False]]\n"
     ]
    }
   ],
   "source": [
    "# Define classifier\n",
    "classifier = LogisticRegression(random_state=42)\n",
    "mapie_score = MapieClassifier(estimator=classifier, method='score', cv=5)\n",
    "# Fit classifier and get predictions\n",
    "mapie_score.fit(X_train, y_train)\n",
    "y_pred, y_set = mapie_score.predict(X_test, alpha=0.05)\n",
    "# Remove redundant dimension (used if more than one alpha is used)\n",
    "y_set = np.squeeze(y_set)\n",
    "# Show first 5 instances\n",
    "print(y_set[0:5])"
   ]
  },
  {
   "cell_type": "markdown",
   "metadata": {},
   "source": [
    "## Analyse classifications"
   ]
  },
  {
   "cell_type": "markdown",
   "metadata": {},
   "source": [
    "Full coverage"
   ]
  },
  {
   "cell_type": "code",
   "execution_count": 5,
   "metadata": {},
   "outputs": [
    {
     "name": "stdout",
     "output_type": "stream",
     "text": [
      "Coverage: 0.95\n",
      "Avg. set size: 1.10\n"
     ]
    }
   ],
   "source": [
    "# Full coverage\n",
    "cov = classification_coverage_score(y_test, y_set)\n",
    "setsize = classification_mean_width_score(y_set)\n",
    "print(f'Coverage: {cov:0.2f}')\n",
    "print(f'Avg. set size: {setsize:.2f}')"
   ]
  },
  {
   "cell_type": "markdown",
   "metadata": {},
   "source": [
    "Class-wise performance"
   ]
  },
  {
   "cell_type": "code",
   "execution_count": 6,
   "metadata": {},
   "outputs": [],
   "source": [
    "def class_wise_performance(y_new, y_set, n_classes):\n",
    "    df = pd.DataFrame()\n",
    "    # Loop through the classes\n",
    "    for i in range(n_classes):\n",
    "    # Calculate the coverage and set size for the current class\n",
    "        ynew = y_new[y_new == i]\n",
    "        yscore = y_set[y_new == i]\n",
    "        cov = classification_coverage_score(ynew, yscore)\n",
    "        size = classification_mean_width_score(yscore)\n",
    "        # Create a new dataframe with the calculated values\n",
    "        temp_df = pd.DataFrame({\n",
    "            \"class\": [i],\n",
    "            \"coverage\": [cov],\n",
    "            \"avg. set size\": [size]\n",
    "            }, index = [i])\n",
    "        # Concatenate the new dataframe with the existing one\n",
    "        df = pd.concat([df, temp_df])\n",
    "    df.set_index('class', inplace=True)\n",
    "    return(df)"
   ]
  },
  {
   "cell_type": "code",
   "execution_count": 7,
   "metadata": {},
   "outputs": [
    {
     "name": "stdout",
     "output_type": "stream",
     "text": [
      "Class wise performance\n",
      "       coverage  avg. set size\n",
      "class                         \n",
      "0      0.980648       1.113744\n",
      "1      0.918152       1.089951\n"
     ]
    }
   ],
   "source": [
    "# Get class-wise performance\n",
    "print('Class wise performance')\n",
    "print(class_wise_performance(y_test, y_set, n_classes))"
   ]
  },
  {
   "cell_type": "markdown",
   "metadata": {},
   "source": [
    "Count how many instances are in the following classes:\n",
    "\n",
    "- *Positive*: The instance reaches the threshold for the positive class, but not the negative class.\n",
    "\n",
    "- *Negative*: The instance reaches the threshold for the negative class, but not the positive class.\n",
    "\n",
    "- *Both*: The instance reaches the threshold for both positive and negative classes.\n",
    "\n",
    "- *None*: The instance does not reach the threshold for either class."
   ]
  },
  {
   "cell_type": "code",
   "execution_count": 8,
   "metadata": {},
   "outputs": [
    {
     "name": "stdout",
     "output_type": "stream",
     "text": [
      "      0      1  observed  predicted probability     class\n",
      "0  True  False         0               0.078708  Negative\n",
      "1  True  False         0               0.030581  Negative\n",
      "2  True   True         0               0.444927      Both\n",
      "3  True  False         0               0.114512  Negative\n",
      "4  True  False         0               0.097502  Negative\n"
     ]
    }
   ],
   "source": [
    "def count_classification(row):\n",
    "    if (row[0] == False) & (row[1] == True):\n",
    "        return 'Positive'    \n",
    "    elif (row[0] == True) & (row[1] == False):\n",
    "        return 'Negative'\n",
    "    elif (row[0] == True) & (row[1] == True):\n",
    "        return 'Both'\n",
    "    else:\n",
    "        return 'None'\n",
    "\n",
    "# Map count_classification function to each row in y_set\n",
    "results = pd.DataFrame(y_set)\n",
    "results['observed'] = y_test\n",
    "results['predicted probability'] = predicted_proba[:, 1]\n",
    "results['class'] = results.apply(count_classification, axis=1)\n",
    "# Show first 5 instances\n",
    "print(results[0:5])"
   ]
  },
  {
   "cell_type": "code",
   "execution_count": 9,
   "metadata": {},
   "outputs": [
    {
     "data": {
      "text/plain": [
       "Negative    0.4794\n",
       "Positive    0.4186\n",
       "Both        0.1020\n",
       "Name: class, dtype: float64"
      ]
     },
     "execution_count": 9,
     "metadata": {},
     "output_type": "execute_result"
    }
   ],
   "source": [
    "# Show the proportion of instances in each 'count'\n",
    "results['class'].value_counts()/len(results)\n"
   ]
  },
  {
   "cell_type": "markdown",
   "metadata": {},
   "source": [
    "Show breakdown by conformal prediction class"
   ]
  },
  {
   "cell_type": "code",
   "execution_count": 10,
   "metadata": {},
   "outputs": [
    {
     "data": {
      "text/html": [
       "<div>\n",
       "<style scoped>\n",
       "    .dataframe tbody tr th:only-of-type {\n",
       "        vertical-align: middle;\n",
       "    }\n",
       "\n",
       "    .dataframe tbody tr th {\n",
       "        vertical-align: top;\n",
       "    }\n",
       "\n",
       "    .dataframe thead th {\n",
       "        text-align: right;\n",
       "    }\n",
       "</style>\n",
       "<table border=\"1\" class=\"dataframe\">\n",
       "  <thead>\n",
       "    <tr style=\"text-align: right;\">\n",
       "      <th></th>\n",
       "      <th>0</th>\n",
       "      <th>1</th>\n",
       "      <th>observed</th>\n",
       "      <th>predicted probability</th>\n",
       "    </tr>\n",
       "    <tr>\n",
       "      <th>class</th>\n",
       "      <th></th>\n",
       "      <th></th>\n",
       "      <th></th>\n",
       "      <th></th>\n",
       "    </tr>\n",
       "  </thead>\n",
       "  <tbody>\n",
       "    <tr>\n",
       "      <th>Both</th>\n",
       "      <td>1.0</td>\n",
       "      <td>1.0</td>\n",
       "      <td>0.435294</td>\n",
       "      <td>0.481244</td>\n",
       "    </tr>\n",
       "    <tr>\n",
       "      <th>Negative</th>\n",
       "      <td>1.0</td>\n",
       "      <td>0.0</td>\n",
       "      <td>0.084272</td>\n",
       "      <td>0.089611</td>\n",
       "    </tr>\n",
       "    <tr>\n",
       "      <th>Positive</th>\n",
       "      <td>0.0</td>\n",
       "      <td>1.0</td>\n",
       "      <td>0.976589</td>\n",
       "      <td>0.956953</td>\n",
       "    </tr>\n",
       "  </tbody>\n",
       "</table>\n",
       "</div>"
      ],
      "text/plain": [
       "            0    1  observed  predicted probability\n",
       "class                                              \n",
       "Both      1.0  1.0  0.435294               0.481244\n",
       "Negative  1.0  0.0  0.084272               0.089611\n",
       "Positive  0.0  1.0  0.976589               0.956953"
      ]
     },
     "execution_count": 10,
     "metadata": {},
     "output_type": "execute_result"
    }
   ],
   "source": [
    "results.groupby('class').mean()"
   ]
  },
  {
   "cell_type": "markdown",
   "metadata": {},
   "source": [
    "## Predictions conditioned on class"
   ]
  },
  {
   "cell_type": "code",
   "execution_count": 11,
   "metadata": {},
   "outputs": [],
   "source": [
    "# Split off model training set\n",
    "X_train, X_rest, y_train, y_rest = train_test_split(X, y, test_size=0.5, random_state=42)\n",
    "# Split rest into calibration and test\n",
    "X_Cal, X_test, y_cal, y_test = train_test_split(X_rest, y_rest, test_size=0.5, random_state=42)"
   ]
  },
  {
   "cell_type": "code",
   "execution_count": 12,
   "metadata": {},
   "outputs": [
    {
     "data": {
      "text/html": [
       "<style>#sk-container-id-1 {color: black;background-color: white;}#sk-container-id-1 pre{padding: 0;}#sk-container-id-1 div.sk-toggleable {background-color: white;}#sk-container-id-1 label.sk-toggleable__label {cursor: pointer;display: block;width: 100%;margin-bottom: 0;padding: 0.3em;box-sizing: border-box;text-align: center;}#sk-container-id-1 label.sk-toggleable__label-arrow:before {content: \"▸\";float: left;margin-right: 0.25em;color: #696969;}#sk-container-id-1 label.sk-toggleable__label-arrow:hover:before {color: black;}#sk-container-id-1 div.sk-estimator:hover label.sk-toggleable__label-arrow:before {color: black;}#sk-container-id-1 div.sk-toggleable__content {max-height: 0;max-width: 0;overflow: hidden;text-align: left;background-color: #f0f8ff;}#sk-container-id-1 div.sk-toggleable__content pre {margin: 0.2em;color: black;border-radius: 0.25em;background-color: #f0f8ff;}#sk-container-id-1 input.sk-toggleable__control:checked~div.sk-toggleable__content {max-height: 200px;max-width: 100%;overflow: auto;}#sk-container-id-1 input.sk-toggleable__control:checked~label.sk-toggleable__label-arrow:before {content: \"▾\";}#sk-container-id-1 div.sk-estimator input.sk-toggleable__control:checked~label.sk-toggleable__label {background-color: #d4ebff;}#sk-container-id-1 div.sk-label input.sk-toggleable__control:checked~label.sk-toggleable__label {background-color: #d4ebff;}#sk-container-id-1 input.sk-hidden--visually {border: 0;clip: rect(1px 1px 1px 1px);clip: rect(1px, 1px, 1px, 1px);height: 1px;margin: -1px;overflow: hidden;padding: 0;position: absolute;width: 1px;}#sk-container-id-1 div.sk-estimator {font-family: monospace;background-color: #f0f8ff;border: 1px dotted black;border-radius: 0.25em;box-sizing: border-box;margin-bottom: 0.5em;}#sk-container-id-1 div.sk-estimator:hover {background-color: #d4ebff;}#sk-container-id-1 div.sk-parallel-item::after {content: \"\";width: 100%;border-bottom: 1px solid gray;flex-grow: 1;}#sk-container-id-1 div.sk-label:hover label.sk-toggleable__label {background-color: #d4ebff;}#sk-container-id-1 div.sk-serial::before {content: \"\";position: absolute;border-left: 1px solid gray;box-sizing: border-box;top: 0;bottom: 0;left: 50%;z-index: 0;}#sk-container-id-1 div.sk-serial {display: flex;flex-direction: column;align-items: center;background-color: white;padding-right: 0.2em;padding-left: 0.2em;position: relative;}#sk-container-id-1 div.sk-item {position: relative;z-index: 1;}#sk-container-id-1 div.sk-parallel {display: flex;align-items: stretch;justify-content: center;background-color: white;position: relative;}#sk-container-id-1 div.sk-item::before, #sk-container-id-1 div.sk-parallel-item::before {content: \"\";position: absolute;border-left: 1px solid gray;box-sizing: border-box;top: 0;bottom: 0;left: 50%;z-index: -1;}#sk-container-id-1 div.sk-parallel-item {display: flex;flex-direction: column;z-index: 1;position: relative;background-color: white;}#sk-container-id-1 div.sk-parallel-item:first-child::after {align-self: flex-end;width: 50%;}#sk-container-id-1 div.sk-parallel-item:last-child::after {align-self: flex-start;width: 50%;}#sk-container-id-1 div.sk-parallel-item:only-child::after {width: 0;}#sk-container-id-1 div.sk-dashed-wrapped {border: 1px dashed gray;margin: 0 0.4em 0.5em 0.4em;box-sizing: border-box;padding-bottom: 0.4em;background-color: white;}#sk-container-id-1 div.sk-label label {font-family: monospace;font-weight: bold;display: inline-block;line-height: 1.2em;}#sk-container-id-1 div.sk-label-container {text-align: center;}#sk-container-id-1 div.sk-container {/* jupyter's `normalize.less` sets `[hidden] { display: none; }` but bootstrap.min.css set `[hidden] { display: none !important; }` so we also need the `!important` here to be able to override the default hidden behavior on the sphinx rendered scikit-learn.org. See: https://github.com/scikit-learn/scikit-learn/issues/21755 */display: inline-block !important;position: relative;}#sk-container-id-1 div.sk-text-repr-fallback {display: none;}</style><div id=\"sk-container-id-1\" class=\"sk-top-container\"><div class=\"sk-text-repr-fallback\"><pre>LogisticRegression(random_state=42)</pre><b>In a Jupyter environment, please rerun this cell to show the HTML representation or trust the notebook. <br />On GitHub, the HTML representation is unable to render, please try loading this page with nbviewer.org.</b></div><div class=\"sk-container\" hidden><div class=\"sk-item\"><div class=\"sk-estimator sk-toggleable\"><input class=\"sk-toggleable__control sk-hidden--visually\" id=\"sk-estimator-id-1\" type=\"checkbox\" checked><label for=\"sk-estimator-id-1\" class=\"sk-toggleable__label sk-toggleable__label-arrow\">LogisticRegression</label><div class=\"sk-toggleable__content\"><pre>LogisticRegression(random_state=42)</pre></div></div></div></div></div>"
      ],
      "text/plain": [
       "LogisticRegression(random_state=42)"
      ]
     },
     "execution_count": 12,
     "metadata": {},
     "output_type": "execute_result"
    }
   ],
   "source": [
    "# Train model\n",
    "classifier = LogisticRegression(random_state=42)\n",
    "classifier.fit(X_train, y_train)"
   ]
  },
  {
   "cell_type": "code",
   "execution_count": 13,
   "metadata": {},
   "outputs": [
    {
     "name": "stdout",
     "output_type": "stream",
     "text": [
      "[0.5265440547581445, 0.7379156747101008]\n"
     ]
    }
   ],
   "source": [
    "alpha = 0.05\n",
    "thresholds = []\n",
    "# Get predicted probabilities for calibration set\n",
    "y_cal_prob = classifier.predict_proba(X_Cal)\n",
    "# Get 95th percentile score\n",
    "for class_label in [0, 1]:\n",
    "    mask = y_cal == class_label\n",
    "    y_cal_prob_class = y_cal_prob[mask][:, class_label]\n",
    "    s_scores = 1 - y_cal_prob_class\n",
    "    q = (1 - alpha) * 100\n",
    "    class_size = mask.sum()\n",
    "    correction = (class_size + 1) / class_size\n",
    "    q *= correction\n",
    "    threshold = np.percentile(s_scores, q)\n",
    "    thresholds.append(threshold)\n",
    "\n",
    "print(thresholds)"
   ]
  },
  {
   "cell_type": "code",
   "execution_count": 14,
   "metadata": {},
   "outputs": [],
   "source": [
    "predicted_proba = classifier.predict_proba(X_test)\n",
    "si_scores = 1 - predicted_proba\n",
    "\n",
    "class_0 = si_scores[:, 0] <= thresholds[0]\n",
    "class_1 = si_scores[:, 1] <= thresholds[1]"
   ]
  },
  {
   "cell_type": "code",
   "execution_count": 15,
   "metadata": {},
   "outputs": [],
   "source": [
    "prediction_sets = []\n",
    "for i in range(len(class_0)):\n",
    "    prediction_set = [class_0[i], class_1[i]]\n",
    "    prediction_sets.append(prediction_set)\n",
    "prediction_sets = np.array(prediction_sets)\n"
   ]
  },
  {
   "cell_type": "code",
   "execution_count": 16,
   "metadata": {},
   "outputs": [
    {
     "name": "stdout",
     "output_type": "stream",
     "text": [
      "Class wise performance\n",
      "       coverage  avg. set size\n",
      "class                         \n",
      "0      0.945643       1.135891\n",
      "1      0.937550       1.059247\n"
     ]
    }
   ],
   "source": [
    "# Get class-wise performance\n",
    "print('Class wise performance')\n",
    "print(class_wise_performance(y_test, prediction_sets, 2))"
   ]
  },
  {
   "cell_type": "code",
   "execution_count": 19,
   "metadata": {},
   "outputs": [
    {
     "data": {
      "text/plain": [
       "Positive    0.4660\n",
       "Negative    0.4364\n",
       "Both        0.0976\n",
       "Name: class, dtype: float64"
      ]
     },
     "execution_count": 19,
     "metadata": {},
     "output_type": "execute_result"
    }
   ],
   "source": [
    "# Map count_classification function to each row in y_set\n",
    "results = pd.DataFrame(prediction_sets)\n",
    "results['observed'] = y_test\n",
    "results['predicted probability'] = predicted_proba[:, 1]\n",
    "results['class'] = results.apply(count_classification, axis=1)\n",
    "# Show the proportion of instances in each 'count'\n",
    "results['class'].value_counts()/len(results)"
   ]
  },
  {
   "cell_type": "code",
   "execution_count": 20,
   "metadata": {},
   "outputs": [
    {
     "data": {
      "text/html": [
       "<div>\n",
       "<style scoped>\n",
       "    .dataframe tbody tr th:only-of-type {\n",
       "        vertical-align: middle;\n",
       "    }\n",
       "\n",
       "    .dataframe tbody tr th {\n",
       "        vertical-align: top;\n",
       "    }\n",
       "\n",
       "    .dataframe thead th {\n",
       "        text-align: right;\n",
       "    }\n",
       "</style>\n",
       "<table border=\"1\" class=\"dataframe\">\n",
       "  <thead>\n",
       "    <tr style=\"text-align: right;\">\n",
       "      <th></th>\n",
       "      <th>0</th>\n",
       "      <th>1</th>\n",
       "      <th>observed</th>\n",
       "      <th>predicted probability</th>\n",
       "    </tr>\n",
       "    <tr>\n",
       "      <th>class</th>\n",
       "      <th></th>\n",
       "      <th></th>\n",
       "      <th></th>\n",
       "      <th></th>\n",
       "    </tr>\n",
       "  </thead>\n",
       "  <tbody>\n",
       "    <tr>\n",
       "      <th>Both</th>\n",
       "      <td>1.0</td>\n",
       "      <td>1.0</td>\n",
       "      <td>0.303279</td>\n",
       "      <td>0.375845</td>\n",
       "    </tr>\n",
       "    <tr>\n",
       "      <th>Negative</th>\n",
       "      <td>1.0</td>\n",
       "      <td>0.0</td>\n",
       "      <td>0.071494</td>\n",
       "      <td>0.083788</td>\n",
       "    </tr>\n",
       "    <tr>\n",
       "      <th>Positive</th>\n",
       "      <td>0.0</td>\n",
       "      <td>1.0</td>\n",
       "      <td>0.941631</td>\n",
       "      <td>0.920002</td>\n",
       "    </tr>\n",
       "  </tbody>\n",
       "</table>\n",
       "</div>"
      ],
      "text/plain": [
       "            0    1  observed  predicted probability\n",
       "class                                              \n",
       "Both      1.0  1.0  0.303279               0.375845\n",
       "Negative  1.0  0.0  0.071494               0.083788\n",
       "Positive  0.0  1.0  0.941631               0.920002"
      ]
     },
     "execution_count": 20,
     "metadata": {},
     "output_type": "execute_result"
    }
   ],
   "source": [
    "results.groupby('class').mean()"
   ]
  }
 ],
 "metadata": {
  "kernelspec": {
   "display_name": "sam10",
   "language": "python",
   "name": "python3"
  },
  "language_info": {
   "codemirror_mode": {
    "name": "ipython",
    "version": 3
   },
   "file_extension": ".py",
   "mimetype": "text/x-python",
   "name": "python",
   "nbconvert_exporter": "python",
   "pygments_lexer": "ipython3",
   "version": "3.10.13"
  }
 },
 "nbformat": 4,
 "nbformat_minor": 2
}
